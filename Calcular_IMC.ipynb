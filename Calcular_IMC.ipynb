{
  "nbformat": 4,
  "nbformat_minor": 0,
  "metadata": {
    "colab": {
      "name": "Calcular IMC.ipynb",
      "provenance": [],
      "authorship_tag": "ABX9TyOO1ButZZTx478UbHGbmr84",
      "include_colab_link": true
    },
    "kernelspec": {
      "name": "python3",
      "display_name": "Python 3"
    },
    "language_info": {
      "name": "python"
    }
  },
  "cells": [
    {
      "cell_type": "markdown",
      "metadata": {
        "id": "view-in-github",
        "colab_type": "text"
      },
      "source": [
        "<a href=\"https://colab.research.google.com/github/JeanIntriago/POE-5-1/blob/main/Calcular_IMC.ipynb\" target=\"_parent\"><img src=\"https://colab.research.google.com/assets/colab-badge.svg\" alt=\"Open In Colab\"/></a>"
      ]
    },
    {
      "cell_type": "code",
      "execution_count": null,
      "metadata": {
        "id": "AVOxH5o43pF-",
        "cellView": "form"
      },
      "outputs": [],
      "source": [
        "#@title Calcular IMC\n",
        "Peso =  70#@param {type:\"number\"}\n",
        "Altura =  1.85#@param {type:\"number\"}\n",
        "print(Peso/(Altura*Altura))"
      ]
    }
  ]
}